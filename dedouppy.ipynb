{
 "cells": [
  {
   "cell_type": "code",
   "execution_count": 30,
   "metadata": {},
   "outputs": [],
   "source": [
    "import pandas as pd\n",
    "import numpy as np\n",
    "import dedupe"
   ]
  },
  {
   "cell_type": "code",
   "execution_count": 31,
   "metadata": {},
   "outputs": [],
   "source": [
    "df_kun = pd.read_excel('data/Konzerndaten.xlsx', 3, engine='openpyxl')\n",
    "df_kundengruppe = pd.read_excel('data/Konzerndaten.xlsx', 4, engine='openpyxl')"
   ]
  },
  {
   "cell_type": "code",
   "execution_count": 32,
   "metadata": {},
   "outputs": [],
   "source": [
    "df_kundengruppe.columns = ['KD-Grp', 'KD-Grp-Name', 'VKL']\n",
    "df_kun = pd.merge(df_kun, df_kundengruppe, how='left', on='KD-Grp')\n",
    "grps = df_kun['KD-Grp'].unique()"
   ]
  },
  {
   "cell_type": "code",
   "execution_count": 33,
   "metadata": {},
   "outputs": [],
   "source": [
    "df_kun.Ort = df_kun.Ort.apply(str)\n",
    "ks = df_kun.where(df_kun.notnull(), None).to_dict(orient='index')\n"
   ]
  },
  {
   "cell_type": "code",
   "execution_count": 34,
   "metadata": {},
   "outputs": [
    {
     "output_type": "execute_result",
     "data": {
      "text/plain": [
       "15890"
      ]
     },
     "metadata": {},
     "execution_count": 34
    }
   ],
   "source": [
    "len(df_kun)"
   ]
  },
  {
   "cell_type": "code",
   "execution_count": 35,
   "metadata": {},
   "outputs": [],
   "source": [
    "fields = [\n",
    "    {'field': 'Name', 'type': 'String'},\n",
    "    {'field': 'Str', 'type': 'String', 'has missing': True},\n",
    "    {'field': 'PLZ', 'type': 'Exact', 'has missing': True},\n",
    "    {'field': 'Ort', 'type': 'String', 'has missing': True},\n",
    "    {'field': 'Anz-Mitarb', 'type': 'Price', 'has missing': True},\n",
    "    {'field': 'Konzern', 'type': 'Exact', 'has missing': True},\n",
    "    {'field': 'KD-Grp', 'type': 'Categorical', 'has missing': True\n",
    "        , 'categories': grps},\n",
    "]"
   ]
  },
  {
   "cell_type": "code",
   "execution_count": 12,
   "metadata": {},
   "outputs": [
    {
     "output_type": "stream",
     "name": "stderr",
     "text": [
      "INFO:dedupe.api:reading training from file\n",
      "INFO:dedupe.canopy_index:Removing stop word  1\n",
      "INFO:dedupe.canopy_index:Removing stop word be\n",
      "INFO:dedupe.canopy_index:Removing stop word er\n",
      "INFO:dedupe.canopy_index:Removing stop word r \n",
      "INFO:dedupe.canopy_index:Removing stop word st\n",
      "INFO:dedupe.canopy_index:Removing stop word  S\n",
      "INFO:dedupe.canopy_index:Removing stop word St\n",
      "INFO:dedupe.canopy_index:Removing stop word ge\n",
      "INFO:dedupe.canopy_index:Removing stop word de\n",
      "INFO:dedupe.canopy_index:Removing stop word el\n",
      "INFO:dedupe.canopy_index:Removing stop word aß\n",
      "INFO:dedupe.canopy_index:Removing stop word ra\n",
      "INFO:dedupe.canopy_index:Removing stop word ße\n",
      "INFO:dedupe.canopy_index:Removing stop word en\n",
      "INFO:dedupe.canopy_index:Removing stop word eg\n",
      "INFO:dedupe.canopy_index:Removing stop word ei\n",
      "INFO:dedupe.canopy_index:Removing stop word an\n",
      "INFO:dedupe.canopy_index:Removing stop word he\n",
      "INFO:dedupe.canopy_index:Removing stop word  2\n",
      "INFO:dedupe.canopy_index:Removing stop word le\n",
      "INFO:dedupe.canopy_index:Removing stop word  3\n",
      "INFO:dedupe.canopy_index:Removing stop word se\n",
      "INFO:dedupe.canopy_index:Removing stop word te\n",
      "INFO:dedupe.canopy_index:Removing stop word rs\n",
      "INFO:dedupe.canopy_index:Removing stop word ns\n",
      "INFO:dedupe.canopy_index:Removing stop word g \n",
      "INFO:dedupe.canopy_index:Removing stop word in\n",
      "INFO:dedupe.canopy_index:Removing stop word Str\n",
      "INFO:dedupe.canopy_index:Removing stop word GmbH\n",
      "INFO:dedupe.canopy_index:Removing stop word Co\n",
      "INFO:dedupe.canopy_index:Removing stop word KG\n",
      "INFO:dedupe.canopy_index:Removing stop word  A\n",
      "INFO:dedupe.canopy_index:Removing stop word Ge\n",
      "INFO:dedupe.canopy_index:Removing stop word an\n",
      "INFO:dedupe.canopy_index:Removing stop word ch\n",
      "INFO:dedupe.canopy_index:Removing stop word de\n",
      "INFO:dedupe.canopy_index:Removing stop word ei\n",
      "INFO:dedupe.canopy_index:Removing stop word er\n",
      "INFO:dedupe.canopy_index:Removing stop word hn\n",
      "INFO:dedupe.canopy_index:Removing stop word le\n",
      "INFO:dedupe.canopy_index:Removing stop word me\n",
      "INFO:dedupe.canopy_index:Removing stop word or\n",
      "INFO:dedupe.canopy_index:Removing stop word rs\n",
      "INFO:dedupe.canopy_index:Removing stop word st\n",
      "INFO:dedupe.canopy_index:Removing stop word  B\n",
      "INFO:dedupe.canopy_index:Removing stop word St\n",
      "INFO:dedupe.canopy_index:Removing stop word at\n",
      "INFO:dedupe.canopy_index:Removing stop word dt\n",
      "INFO:dedupe.canopy_index:Removing stop word he\n",
      "INFO:dedupe.canopy_index:Removing stop word ie\n",
      "INFO:dedupe.canopy_index:Removing stop word is\n",
      "INFO:dedupe.canopy_index:Removing stop word ra\n",
      "INFO:dedupe.canopy_index:Removing stop word t \n",
      "INFO:dedupe.canopy_index:Removing stop word  D\n",
      "INFO:dedupe.canopy_index:Removing stop word ed\n",
      "INFO:dedupe.canopy_index:Removing stop word g \n",
      "INFO:dedupe.canopy_index:Removing stop word ng\n",
      "INFO:dedupe.canopy_index:Removing stop word on\n",
      "INFO:dedupe.canopy_index:Removing stop word te\n",
      "INFO:dedupe.canopy_index:Removing stop word tu\n",
      "INFO:dedupe.canopy_index:Removing stop word un\n",
      "INFO:dedupe.canopy_index:Removing stop word  F\n",
      "INFO:dedupe.canopy_index:Removing stop word ic\n",
      "INFO:dedupe.canopy_index:Removing stop word ts\n",
      "INFO:dedupe.canopy_index:Removing stop word  R\n",
      "INFO:dedupe.canopy_index:Removing stop word eu\n",
      "INFO:dedupe.canopy_index:Removing stop word re\n",
      "INFO:dedupe.canopy_index:Removing stop word s \n",
      "INFO:dedupe.canopy_index:Removing stop word ut\n",
      "INFO:dedupe.canopy_index:Removing stop word  H\n",
      "INFO:dedupe.canopy_index:Removing stop word as\n",
      "INFO:dedupe.canopy_index:Removing stop word be\n",
      "INFO:dedupe.canopy_index:Removing stop word el\n",
      "INFO:dedupe.canopy_index:Removing stop word ul\n",
      "INFO:dedupe.canopy_index:Removing stop word  L\n",
      "INFO:dedupe.canopy_index:Removing stop word H \n",
      "INFO:dedupe.canopy_index:Removing stop word ec\n",
      "INFO:dedupe.canopy_index:Removing stop word n \n",
      "INFO:dedupe.canopy_index:Removing stop word  C\n",
      "INFO:dedupe.canopy_index:Removing stop word al\n",
      "INFO:dedupe.canopy_index:Removing stop word en\n",
      "INFO:dedupe.canopy_index:Removing stop word ge\n",
      "INFO:dedupe.canopy_index:Removing stop word l \n",
      "INFO:dedupe.canopy_index:Removing stop word ma\n",
      "INFO:dedupe.canopy_index:Removing stop word se\n",
      "INFO:dedupe.canopy_index:Removing stop word we\n",
      "INFO:dedupe.canopy_index:Removing stop word  P\n",
      "INFO:dedupe.canopy_index:Removing stop word Gm\n",
      "INFO:dedupe.canopy_index:Removing stop word bH\n",
      "INFO:dedupe.canopy_index:Removing stop word ke\n",
      "INFO:dedupe.canopy_index:Removing stop word mb\n",
      "INFO:dedupe.canopy_index:Removing stop word rg\n",
      "INFO:dedupe.canopy_index:Removing stop word ur\n",
      "INFO:dedupe.canopy_index:Removing stop word Ha\n",
      "INFO:dedupe.canopy_index:Removing stop word ar\n",
      "INFO:dedupe.canopy_index:Removing stop word rt\n",
      "INFO:dedupe.canopy_index:Removing stop word ss\n",
      "INFO:dedupe.canopy_index:Removing stop word Be\n",
      "INFO:dedupe.canopy_index:Removing stop word G \n",
      "INFO:dedupe.canopy_index:Removing stop word k \n",
      "INFO:dedupe.canopy_index:Removing stop word o \n",
      "INFO:dedupe.canopy_index:Removing stop word hl\n",
      "INFO:dedupe.canopy_index:Removing stop word la\n",
      "INFO:dedupe.canopy_index:Removing stop word ne\n",
      "INFO:dedupe.canopy_index:Removing stop word Co\n",
      "INFO:dedupe.canopy_index:Removing stop word et\n",
      "INFO:dedupe.canopy_index:Removing stop word ns\n",
      "INFO:dedupe.canopy_index:Removing stop word nt\n",
      "INFO:dedupe.canopy_index:Removing stop word us\n",
      "INFO:dedupe.canopy_index:Removing stop word ck\n",
      "INFO:dedupe.canopy_index:Removing stop word th\n",
      "INFO:dedupe.canopy_index:Removing stop word KG\n",
      "INFO:dedupe.canopy_index:Removing stop word  M\n",
      "INFO:dedupe.canopy_index:Removing stop word lt\n",
      "INFO:dedupe.canopy_index:Removing stop word il\n",
      "INFO:dedupe.canopy_index:Removing stop word ve\n",
      "INFO:dedupe.canopy_index:Removing stop word ch\n",
      "INFO:dedupe.canopy_index:Removing stop word tr\n",
      "INFO:dedupe.canopy_index:Removing stop word e \n",
      "INFO:dedupe.canopy_index:Removing stop word ie\n",
      "INFO:dedupe.canopy_index:Removing stop word  G\n",
      "INFO:dedupe.canopy_index:Removing stop word ba\n",
      "INFO:dedupe.canopy_index:Removing stop word e \n",
      "INFO:dedupe.canopy_index:Removing stop word in\n",
      "INFO:dedupe.canopy_index:Removing stop word nd\n",
      "INFO:dedupe.canopy_index:Removing stop word r \n",
      "INFO:dedupe.canopy_index:Removing stop word ta\n",
      "INFO:dedupe.canopy_index:Removing stop word  S\n",
      "INFO:dedupe.canopy_index:Removing stop word ad\n",
      "INFO:dedupe.canopy_index:Removing stop word au\n",
      "INFO:dedupe.canopy_index:Removing stop word m \n",
      "INFO:dedupe.canopy_index:Removing stop word ri\n",
      "INFO:dedupe.canopy_index:Removing stop word tr\n",
      "INFO:dedupe.canopy_index:Removing stop word ni\n",
      "INFO:dedupe.canopy_index:Removing stop word ti\n",
      "INFO:dedupe.canopy_index:Removing stop word  K\n",
      "INFO:dedupe.canopy_index:Removing stop word ot\n",
      "INFO:dedupe.canopy_index:Removing stop word sc\n",
      "INFO:dedupe.canopy_index:Removing stop word eb\n",
      "INFO:dedupe.canopy_index:Removing stop word um\n",
      "INFO:dedupe.canopy_index:Removing stop word it\n",
      "INFO:dedupe.canopy_index:Removing stop word ha\n",
      "INFO:dedupe.canopy_index:Removing stop word ll\n",
      "INFO:dedupe.canopy_index:Removing stop word rk\n",
      "INFO:dedupe.canopy_index:Removing stop word li\n",
      "INFO:dedupe.canopy_index:Removing stop word ol\n",
      "INFO:dedupe.canopy_index:Removing stop word ru\n",
      "INFO:dedupe.canopy_index:Removing stop word Sc\n",
      "INFO:dedupe.training:Final predicate set:\n",
      "INFO:dedupe.training:(SimplePredicate: (wholeFieldPredicate, Name), SimplePredicate: (wholeFieldPredicate, Str))\n",
      "INFO:dedupe.training:Final predicate set:\n",
      "INFO:dedupe.training:(SimplePredicate: (commonSixGram, Name), SimplePredicate: (twoGramFingerprint, Str))\n",
      "INFO:dedupe.training:(SimplePredicate: (wholeFieldPredicate, Konzern), TfidfNGramCanopyPredicate: (0.4, Name))\n",
      "INFO:dedupe.training:(SimplePredicate: (sortedAcronym, Str), SimplePredicate: (wholeFieldPredicate, Name))\n",
      "INFO:dedupe.training:(SimplePredicate: (commonThreeTokens, Name), SimplePredicate: (fingerprint, Name))\n",
      "INFO:dedupe.training:(SimplePredicate: (commonTwoTokens, Str), SimplePredicate: (wholeFieldPredicate, Konzern))\n"
     ]
    }
   ],
   "source": [
    "deduper = dedupe.Dedupe(fields)\n",
    "\n",
    "# first run\n",
    "# deduper.prepare_training(ks)\n",
    "# dedupe.console_label(deduper)\n",
    "\n",
    "# with existing training data\n",
    "with open('training.json') as f: \n",
    "    deduper.prepare_training(ks, training_file=f) \n"
   ]
  },
  {
   "cell_type": "code",
   "execution_count": 13,
   "metadata": {},
   "outputs": [
    {
     "output_type": "stream",
     "name": "stderr",
     "text": [
      "INFO:rlr.crossvalidation:using cross validation to find optimum alpha...\n",
      "INFO:rlr.crossvalidation:optimum alpha: 0.100000, score 0.5727715091983886\n",
      "INFO:dedupe.training:Final predicate set:\n",
      "INFO:dedupe.training:(SimplePredicate: (commonSixGram, Name), SimplePredicate: (twoGramFingerprint, Str))\n",
      "INFO:dedupe.training:(SimplePredicate: (wholeFieldPredicate, Konzern), TfidfNGramCanopyPredicate: (0.4, Name))\n",
      "INFO:dedupe.training:(SimplePredicate: (sortedAcronym, Str), SimplePredicate: (wholeFieldPredicate, Name))\n",
      "INFO:dedupe.training:(SimplePredicate: (commonThreeTokens, Name), SimplePredicate: (fingerprint, Name))\n"
     ]
    }
   ],
   "source": [
    "deduper.train() # when not yet trained"
   ]
  },
  {
   "cell_type": "code",
   "execution_count": 14,
   "metadata": {},
   "outputs": [],
   "source": [
    "# write down new model\n",
    "with open('training.json', 'w') as f:\n",
    "    deduper.write_training(f)\n",
    "with open('learned_settings', 'wb') as f:\n",
    "    deduper.write_settings(f)"
   ]
  },
  {
   "cell_type": "code",
   "execution_count": 36,
   "metadata": {},
   "outputs": [
    {
     "output_type": "stream",
     "name": "stderr",
     "text": [
      "INFO:dedupe.api:((SimplePredicate: (commonSixGram, Name), SimplePredicate: (twoGramFingerprint, Str)), (SimplePredicate: (wholeFieldPredicate, Konzern), TfidfNGramCanopyPredicate: (0.4, Name)), (SimplePredicate: (sortedAcronym, Str), SimplePredicate: (wholeFieldPredicate, Name)), (SimplePredicate: (commonThreeTokens, Name), SimplePredicate: (fingerprint, Name)))\n"
     ]
    }
   ],
   "source": [
    "# load saved model\n",
    "with open('learned_settings', 'rb') as f:\n",
    "    deduper = dedupe.StaticDedupe(f)"
   ]
  },
  {
   "cell_type": "code",
   "execution_count": 37,
   "metadata": {},
   "outputs": [
    {
     "output_type": "stream",
     "name": "stderr",
     "text": [
      "INFO:dedupe.canopy_index:Removing stop word  A\n",
      "INFO:dedupe.canopy_index:Removing stop word Ge\n",
      "INFO:dedupe.canopy_index:Removing stop word an\n",
      "INFO:dedupe.canopy_index:Removing stop word ch\n",
      "INFO:dedupe.canopy_index:Removing stop word de\n",
      "INFO:dedupe.canopy_index:Removing stop word ei\n",
      "INFO:dedupe.canopy_index:Removing stop word er\n",
      "INFO:dedupe.canopy_index:Removing stop word hn\n",
      "INFO:dedupe.canopy_index:Removing stop word le\n",
      "INFO:dedupe.canopy_index:Removing stop word me\n",
      "INFO:dedupe.canopy_index:Removing stop word or\n",
      "INFO:dedupe.canopy_index:Removing stop word rs\n",
      "INFO:dedupe.canopy_index:Removing stop word st\n",
      "INFO:dedupe.canopy_index:Removing stop word  B\n",
      "INFO:dedupe.canopy_index:Removing stop word St\n",
      "INFO:dedupe.canopy_index:Removing stop word at\n",
      "INFO:dedupe.canopy_index:Removing stop word dt\n",
      "INFO:dedupe.canopy_index:Removing stop word he\n",
      "INFO:dedupe.canopy_index:Removing stop word ie\n",
      "INFO:dedupe.canopy_index:Removing stop word is\n",
      "INFO:dedupe.canopy_index:Removing stop word ra\n",
      "INFO:dedupe.canopy_index:Removing stop word t \n",
      "INFO:dedupe.canopy_index:Removing stop word  D\n",
      "INFO:dedupe.canopy_index:Removing stop word ed\n",
      "INFO:dedupe.canopy_index:Removing stop word g \n",
      "INFO:dedupe.canopy_index:Removing stop word ng\n",
      "INFO:dedupe.canopy_index:Removing stop word on\n",
      "INFO:dedupe.canopy_index:Removing stop word te\n",
      "INFO:dedupe.canopy_index:Removing stop word tu\n",
      "INFO:dedupe.canopy_index:Removing stop word un\n",
      "INFO:dedupe.canopy_index:Removing stop word  F\n",
      "INFO:dedupe.canopy_index:Removing stop word ic\n",
      "INFO:dedupe.canopy_index:Removing stop word ts\n",
      "INFO:dedupe.canopy_index:Removing stop word  R\n",
      "INFO:dedupe.canopy_index:Removing stop word eu\n",
      "INFO:dedupe.canopy_index:Removing stop word re\n",
      "INFO:dedupe.canopy_index:Removing stop word s \n",
      "INFO:dedupe.canopy_index:Removing stop word ut\n",
      "INFO:dedupe.canopy_index:Removing stop word  H\n",
      "INFO:dedupe.canopy_index:Removing stop word as\n",
      "INFO:dedupe.canopy_index:Removing stop word be\n",
      "INFO:dedupe.canopy_index:Removing stop word el\n",
      "INFO:dedupe.canopy_index:Removing stop word ul\n",
      "INFO:dedupe.canopy_index:Removing stop word  L\n",
      "INFO:dedupe.canopy_index:Removing stop word H \n",
      "INFO:dedupe.canopy_index:Removing stop word ec\n",
      "INFO:dedupe.canopy_index:Removing stop word n \n",
      "INFO:dedupe.canopy_index:Removing stop word  C\n",
      "INFO:dedupe.canopy_index:Removing stop word al\n",
      "INFO:dedupe.canopy_index:Removing stop word en\n",
      "INFO:dedupe.canopy_index:Removing stop word ge\n",
      "INFO:dedupe.canopy_index:Removing stop word l \n",
      "INFO:dedupe.canopy_index:Removing stop word ma\n",
      "INFO:dedupe.canopy_index:Removing stop word se\n",
      "INFO:dedupe.canopy_index:Removing stop word we\n",
      "INFO:dedupe.canopy_index:Removing stop word  P\n",
      "INFO:dedupe.canopy_index:Removing stop word Gm\n",
      "INFO:dedupe.canopy_index:Removing stop word bH\n",
      "INFO:dedupe.canopy_index:Removing stop word ke\n",
      "INFO:dedupe.canopy_index:Removing stop word mb\n",
      "INFO:dedupe.canopy_index:Removing stop word rg\n",
      "INFO:dedupe.canopy_index:Removing stop word ur\n",
      "INFO:dedupe.canopy_index:Removing stop word Ha\n",
      "INFO:dedupe.canopy_index:Removing stop word ar\n",
      "INFO:dedupe.canopy_index:Removing stop word rt\n",
      "INFO:dedupe.canopy_index:Removing stop word ss\n",
      "INFO:dedupe.canopy_index:Removing stop word Be\n",
      "INFO:dedupe.canopy_index:Removing stop word G \n",
      "INFO:dedupe.canopy_index:Removing stop word k \n",
      "INFO:dedupe.canopy_index:Removing stop word o \n",
      "INFO:dedupe.canopy_index:Removing stop word hl\n",
      "INFO:dedupe.canopy_index:Removing stop word la\n",
      "INFO:dedupe.canopy_index:Removing stop word ne\n",
      "INFO:dedupe.canopy_index:Removing stop word Co\n",
      "INFO:dedupe.canopy_index:Removing stop word et\n",
      "INFO:dedupe.canopy_index:Removing stop word ns\n",
      "INFO:dedupe.canopy_index:Removing stop word nt\n",
      "INFO:dedupe.canopy_index:Removing stop word us\n",
      "INFO:dedupe.canopy_index:Removing stop word ck\n",
      "INFO:dedupe.canopy_index:Removing stop word th\n",
      "INFO:dedupe.canopy_index:Removing stop word KG\n",
      "INFO:dedupe.canopy_index:Removing stop word  M\n",
      "INFO:dedupe.canopy_index:Removing stop word lt\n",
      "INFO:dedupe.canopy_index:Removing stop word il\n",
      "INFO:dedupe.canopy_index:Removing stop word ve\n",
      "INFO:dedupe.blocking:10000, 3.4501612 seconds\n"
     ]
    }
   ],
   "source": [
    "clustered_dupes = deduper.partition(ks, 0.33)"
   ]
  },
  {
   "cell_type": "code",
   "execution_count": 38,
   "metadata": {},
   "outputs": [
    {
     "output_type": "execute_result",
     "data": {
      "text/plain": [
       "13977"
      ]
     },
     "metadata": {},
     "execution_count": 38
    }
   ],
   "source": [
    "len(clustered_dupes)"
   ]
  },
  {
   "cell_type": "code",
   "execution_count": 39,
   "metadata": {},
   "outputs": [],
   "source": [
    "classes = list()\n",
    "for i in range(len(ks)):\n",
    "    classes.append(-1)"
   ]
  },
  {
   "cell_type": "code",
   "execution_count": 40,
   "metadata": {},
   "outputs": [
    {
     "output_type": "execute_result",
     "data": {
      "text/plain": [
       "((3, 495), (0.9824463, 0.9824463))"
      ]
     },
     "metadata": {},
     "execution_count": 40
    }
   ],
   "source": [
    "clustered_dupes[0]"
   ]
  },
  {
   "cell_type": "code",
   "execution_count": 41,
   "metadata": {},
   "outputs": [],
   "source": [
    "for r in clustered_dupes:\n",
    "    i = clustered_dupes.index(r)\n",
    "    #print(i, ' : ')\n",
    "    for e in r[0]:\n",
    "        #print(e)\n",
    "        classes[e] = i"
   ]
  },
  {
   "cell_type": "code",
   "execution_count": 42,
   "metadata": {},
   "outputs": [],
   "source": [
    "dfk = df_kun.copy(deep=True)\n",
    "#df_kun = dfk\n"
   ]
  },
  {
   "cell_type": "code",
   "execution_count": 43,
   "metadata": {},
   "outputs": [],
   "source": [
    "d_kun = pd.merge(df_kun, pd.Series(classes, name='Dublettengruppe'), how='left', left_index=True, right_index=True)"
   ]
  },
  {
   "cell_type": "code",
   "execution_count": 44,
   "metadata": {},
   "outputs": [],
   "source": [
    "d_kun.to_excel('data/marked_doublette_groups.xlsx')"
   ]
  },
  {
   "cell_type": "code",
   "execution_count": null,
   "metadata": {},
   "outputs": [],
   "source": []
  }
 ],
 "metadata": {
  "kernelspec": {
   "display_name": "Python 3",
   "language": "python",
   "name": "python3"
  },
  "language_info": {
   "codemirror_mode": {
    "name": "ipython",
    "version": 3
   },
   "file_extension": ".py",
   "mimetype": "text/x-python",
   "name": "python",
   "nbconvert_exporter": "python",
   "pygments_lexer": "ipython3",
   "version": "3.8.5-final"
  }
 },
 "nbformat": 4,
 "nbformat_minor": 2
}